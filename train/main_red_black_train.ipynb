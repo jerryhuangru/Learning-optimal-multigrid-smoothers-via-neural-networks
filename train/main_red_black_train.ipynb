{
 "cells": [
  {
   "cell_type": "markdown",
   "metadata": {
    "ExecuteTime": {
     "end_time": "2018-12-18T11:12:37.978677Z",
     "start_time": "2018-12-18T11:12:37.976016Z"
    },
    "id": "ZnOGazI_k0Nt"
   },
   "source": [
    "# Imports"
   ]
  },
  {
   "cell_type": "code",
   "execution_count": 1,
   "metadata": {
    "ExecuteTime": {
     "end_time": "2018-12-30T11:10:53.160742Z",
     "start_time": "2018-12-30T11:10:51.404495Z"
    },
    "autoscroll": false,
    "colab": {
     "base_uri": "https://localhost:8080/"
    },
    "ein.hycell": false,
    "ein.tags": "worksheet-0",
    "executionInfo": {
     "elapsed": 4094,
     "status": "ok",
     "timestamp": 1648066160371,
     "user": {
      "displayName": "Ru Huang",
      "photoUrl": "https://lh3.googleusercontent.com/a/default-user=s64",
      "userId": "03213243881794485520"
     },
     "user_tz": 240
    },
    "id": "Gd1wm_4gk0Nw",
    "outputId": "a05a8174-4cd0-476b-b379-ceec8487fb87"
   },
   "outputs": [],
   "source": [
    "import os\n",
    "from importlib import reload\n",
    "from itertools import product\n",
    "import time\n",
    "import numpy as np\n",
    "import pandas as pd\n",
    "import seaborn as sns\n",
    "import matplotlib.pyplot as plt\n",
    "import torch\n",
    "import torch.nn as nn\n",
    "import torch.nn.functional as F\n",
    "from IPython.display import display\n",
    "import matplotlib.pyplot as plt\n",
    "from problems import *\n",
    "from model_train import *\n",
    "import scipy as sp\n",
    "import pyamg\n",
    "device = 'cpu'"
   ]
  },
  {
   "cell_type": "markdown",
   "metadata": {
    "id": "-LwSUjikk0Nx"
   },
   "source": [
    "# Setup"
   ]
  },
  {
   "cell_type": "code",
   "execution_count": 2,
   "metadata": {
    "executionInfo": {
     "elapsed": 111,
     "status": "ok",
     "timestamp": 1648066180732,
     "user": {
      "displayName": "Ru Huang",
      "photoUrl": "https://lh3.googleusercontent.com/a/default-user=s64",
      "userId": "03213243881794485520"
     },
     "user_tz": 240
    },
    "id": "A_32VNu-k0Nz"
   },
   "outputs": [],
   "source": [
    "def diffusion_stencil_2d(epsilon=1.0, theta=0.0, type='FE'):\n",
    "    eps = float(epsilon)  # for brevity\n",
    "    theta = float(theta)\n",
    "\n",
    "    C = np.cos(theta)\n",
    "    S = np.sin(theta)\n",
    "    CS = C*S\n",
    "    CC = C**2\n",
    "    SS = S**2\n",
    "\n",
    "    if(type == 'FE'):\n",
    "        a = (-1*eps - 1)*CC + (-1*eps - 1)*SS + (3*eps - 3)*CS\n",
    "        b = (2*eps - 4)*CC + (-4*eps + 2)*SS\n",
    "        c = (-1*eps - 1)*CC + (-1*eps - 1)*SS + (-3*eps + 3)*CS\n",
    "        d = (-4*eps + 2)*CC + (2*eps - 4)*SS\n",
    "        e = (8*eps + 8)*CC + (8*eps + 8)*SS\n",
    "\n",
    "        stencil = np.array([[a, b, c],\n",
    "                            [d, e, d],\n",
    "                            [c, b, a]]) / 6.0\n",
    "\n",
    "    elif type == 'FD':\n",
    "\n",
    "        a = -0.5*(eps - 1)*CS\n",
    "        b = -(eps*SS + CC)\n",
    "        c = -a\n",
    "        d = -(eps*CC + SS)\n",
    "        e = 2.0*(eps + 1)\n",
    "\n",
    "        stencil = np.array([[a+c, d-2*c, 2*c],\n",
    "                            [b-2*c, e+4*c, b-2*c],\n",
    "                            [2*c, d-2*c, a+c]])\n",
    "\n",
    "        \n",
    "    return stencil\n",
    "res1 = np.zeros((3,3))\n",
    "res1[0,1] = 1/8\n",
    "res1[1,0] = 1/8\n",
    "res1[1,1] = 1/2\n",
    "res1[1,2] = 1/8\n",
    "res1[2,1] = 1/8\n",
    "\n",
    "res2 = np.zeros((3,3))\n",
    "res2[0,0] = 1/8\n",
    "res2[0,2] = 1/8\n",
    "res2[1,1] = 1/2\n",
    "res2[2,0] = 1/8\n",
    "res2[2,2] = 1/8"
   ]
  },
  {
   "cell_type": "code",
   "execution_count": 3,
   "metadata": {
    "executionInfo": {
     "elapsed": 176,
     "status": "ok",
     "timestamp": 1648066181284,
     "user": {
      "displayName": "Ru Huang",
      "photoUrl": "https://lh3.googleusercontent.com/a/default-user=s64",
      "userId": "03213243881794485520"
     },
     "user_tz": 240
    },
    "id": "znD93Fttk0N0"
   },
   "outputs": [],
   "source": [
    "def map_2_to_1(grid_size=8):\n",
    "    # maps 2D coordinates to the corresponding 1D coordinate in the matrix.\n",
    "    k = np.zeros((grid_size, grid_size, 3, 3))\n",
    "    M = np.reshape(np.arange(grid_size ** 2), (grid_size, grid_size)).T\n",
    "    M = np.concatenate([M, M], 0)\n",
    "    M = np.concatenate([M, M], 1)\n",
    "    for i in range(3):\n",
    "        I = (i - 1) % grid_size\n",
    "        for j in range(3):\n",
    "            J = (j - 1) % grid_size\n",
    "            k[:, :, i, j] = M[I:I + grid_size, J:J + grid_size]\n",
    "    return k\n",
    "def get_p_matrix_indices_one(grid_size):\n",
    "    K = map_2_to_1(grid_size=grid_size)\n",
    "    indices = []\n",
    "    for ic in range(grid_size // 2):\n",
    "        i = 2 * ic + 1\n",
    "        for jc in range(grid_size // 2):\n",
    "            j = 2 * jc + 1\n",
    "            J = int(grid_size // 2 * jc + ic)\n",
    "            for k in range(3):\n",
    "                for m in range(3):\n",
    "                    I = int(K[i, j, k, m])\n",
    "                    indices.append([I, J])\n",
    "\n",
    "    return np.array(indices)\n",
    "\n",
    "\n",
    "def compute_p2(P_stencil, grid_size):\n",
    "    indexes = get_p_matrix_indices_one(grid_size)\n",
    "    P = csr_matrix(arg1=(P_stencil.reshape(-1), (indexes[:, 1], indexes[:, 0])),\n",
    "                   shape=((grid_size//2) ** 2, (grid_size) ** 2))\n",
    "\n",
    "    return P\n",
    "def prolongation_fn(grid_size):\n",
    "    res_stencil = np.double(np.zeros((3,3)))\n",
    "    k=16\n",
    "    res_stencil[0,0] = 1/k\n",
    "    res_stencil[0,1] = 2/k\n",
    "    res_stencil[0,2] = 1/k\n",
    "    res_stencil[1,0] = 2/k\n",
    "    res_stencil[1,1] = 4/k\n",
    "    res_stencil[1,2] = 2/k\n",
    "    res_stencil[2,0] = 1/k\n",
    "    res_stencil[2,1] = 2/k\n",
    "    res_stencil[2,2] = 1/k\n",
    "    P_stencils= np.zeros((grid_size//2,grid_size//2,3,3))\n",
    "    for i in range(grid_size//2):\n",
    "        for j in range(grid_size//2):\n",
    "            P_stencils[i,j,:,:]=res_stencil\n",
    "    return compute_p2(P_stencils, grid_size).astype(np.double)  # imaginary part should be zero\n",
    "def rotate_idx(size):\n",
    "    X = []\n",
    "    Y = []\n",
    "    for i in range(size):\n",
    "        for j in range(size):\n",
    "            if (i+j)%2==0:\n",
    "                X.append(i)\n",
    "                Y.append(j)\n",
    "    new_X = []\n",
    "    new_Y = []\n",
    "    for k in range(len(X)):\n",
    "        i = X[k]\n",
    "        j = Y[k]\n",
    "        new_j = (j-i)//2+size//2\n",
    "        new_i = (i+j)//2\n",
    "        new_X.append(new_i)\n",
    "        new_Y.append(new_j)\n",
    "    \n",
    "#     B[new_X,new_Y] = A[X,Y]\n",
    "    return new_X,new_Y,X,Y"
   ]
  },
  {
   "cell_type": "code",
   "execution_count": 4,
   "metadata": {
    "ExecuteTime": {
     "end_time": "2018-12-30T11:11:03.135930Z",
     "start_time": "2018-12-30T11:10:55.287969Z"
    },
    "autoscroll": false,
    "colab": {
     "base_uri": "https://localhost:8080/"
    },
    "ein.hycell": false,
    "ein.tags": "worksheet-0",
    "executionInfo": {
     "elapsed": 123,
     "status": "ok",
     "timestamp": 1648066182004,
     "user": {
      "displayName": "Ru Huang",
      "photoUrl": "https://lh3.googleusercontent.com/a/default-user=s64",
      "userId": "03213243881794485520"
     },
     "user_tz": 240
    },
    "id": "Xg3BPX5rk0N1",
    "outputId": "ef00ae9d-2786-4bf7-ed9a-45cd757ef9d0"
   },
   "outputs": [
    {
     "name": "stderr",
     "output_type": "stream",
     "text": [
      "C:\\Users\\ruhua\\Anaconda3\\lib\\site-packages\\pyamg\\gallery\\stencil.py:114: FutureWarning: Using a non-tuple sequence for multidimensional indexing is deprecated; use `arr[tuple(seq)]` instead of `arr[seq]`. In the future this will be interpreted as an array index, `arr[np.array(seq)]`, which will result either in an error or a different result.\n",
      "  diag[s] = 0\n",
      "C:\\Users\\ruhua\\Anaconda3\\lib\\site-packages\\pyamg\\gallery\\stencil.py:110: FutureWarning: Using a non-tuple sequence for multidimensional indexing is deprecated; use `arr[tuple(seq)]` instead of `arr[seq]`. In the future this will be interpreted as an array index, `arr[np.array(seq)]`, which will result either in an error or a different result.\n",
      "  diag[s] = 0\n"
     ]
    },
    {
     "name": "stdout",
     "output_type": "stream",
     "text": [
      "(1089, 1089)\n",
      "(545, 545)\n",
      "(289, 289)\n",
      "(145, 145)\n",
      "(81, 81)\n"
     ]
    }
   ],
   "source": [
    "n = 33\n",
    "mxl = 5\n",
    "levels=[]\n",
    "s = diffusion_stencil_2d(100,sp.pi/12,'FD')*2\n",
    "A = pyamg.gallery.stencil_grid(s, (n,n)).tocsr()\n",
    "def coo_to_tensor(coo):\n",
    "    values = coo.data\n",
    "    indices = np.vstack((coo.row, coo.col))\n",
    "    i = torch.LongTensor(indices)\n",
    "    v = torch.DoubleTensor(values)\n",
    "    shape = coo.shape\n",
    "    return torch.sparse.DoubleTensor(i, v, torch.Size(shape)).to(device)\n",
    "x = np.random.rand(n*n,1)\n",
    "f = A*x\n",
    "f = torch.from_numpy(f)\n",
    "x = torch.from_numpy(x)\n",
    "initial_u = torch.ones(n*n,1).double()\n",
    "for i in range(mxl):\n",
    "    level={}\n",
    "    level['A'] = coo_to_tensor(A.tocoo())\n",
    "    D = sp.sparse.diags(1/sp.sparse.csr_matrix.diagonal(A))\n",
    "    level['D'] = coo_to_tensor(D.tocoo())\n",
    "    level['N'] = n\n",
    "    level['l'] = A.shape[0]\n",
    "    print(A.shape)\n",
    "    if i%2==0:\n",
    "        R = pyamg.gallery.stencil_grid(res1,(n,n)).tocsr()\n",
    "        R = R[0:n*n:2,:]\n",
    "#         R = R[:,0:n*n//2+1]\n",
    "        P = R.T*2\n",
    "        level['square'] = True\n",
    "    else:\n",
    "        R = pyamg.gallery.stencil_grid(res2,(n,n)).tocsr()\n",
    "        #R = pyamg.gallery.stencil_grid(res2,(n,n)).toarray()\n",
    "        R = R[0:n*n:2,:]\n",
    "        R = R[:,0:n*n:2]\n",
    "        level['rotate_idx'] = rotate_idx(n)\n",
    "        idx = []\n",
    "        for j in range(n//2+1):\n",
    "            idx = idx+list(range(j*n,j*n+n//2+1))\n",
    "        R = R[idx,:]\n",
    "        P=R.T*2\n",
    "        n=n//2+1\n",
    "        level['square'] = False\n",
    "    A = R*A*P\n",
    "    R = coo_to_tensor(R.tocoo())\n",
    "    P = coo_to_tensor(P.tocoo())\n",
    "    \n",
    "    level['R']=R.to(device)\n",
    "    level['P']=P.to(device)\n",
    "    levels = levels+[level]\n"
   ]
  },
  {
   "cell_type": "code",
   "execution_count": 5,
   "metadata": {
    "colab": {
     "base_uri": "https://localhost:8080/",
     "height": 484
    },
    "executionInfo": {
     "elapsed": 27000,
     "status": "error",
     "timestamp": 1648066209945,
     "user": {
      "displayName": "Ru Huang",
      "photoUrl": "https://lh3.googleusercontent.com/a/default-user=s64",
      "userId": "03213243881794485520"
     },
     "user_tz": 240
    },
    "id": "QIMust2Hk0N2",
    "outputId": "3d180cd1-2c5a-44cf-b801-958423bd1a0d",
    "scrolled": true
   },
   "outputs": [
    {
     "name": "stdout",
     "output_type": "stream",
     "text": [
      "Epoch: 0 total loss 127.47116088867188\n",
      "3 total loss: 113.32662963867188\n",
      "Epoch: 0 total loss 272.5091857910156\n",
      "7 total loss: 210.74740600585938\n",
      "Epoch: 0 total loss 383.26953125\n",
      "7 total loss: 280.8701477050781\n",
      "Epoch: 0 total loss 601.4959106445312\n",
      "3 total loss: 512.7528076171875\n"
     ]
    },
    {
     "data": {
      "text/plain": [
       "<model.alphaCNN at 0x2058dc0f700>"
      ]
     },
     "execution_count": 5,
     "metadata": {},
     "output_type": "execute_result"
    }
   ],
   "source": [
    "nb_problem_instances = 50\n",
    "optimizer = 'Adam'\n",
    "learning_rate = 1e-3\n",
    "nb_layers = 5\n",
    "problem_instances1 = [Problem(k=k,levels=levels[3:5],mxl=2) for k in np.random.randint(1,3,nb_problem_instances)]\n",
    "model1=alphaCNN(\n",
    "                 batch_size=10,\n",
    "                 learning_rate=1e-3,\n",
    "                 max_epochs=4,\n",
    "                 nb_layers=nb_layers,\n",
    "                 tol=1e-6,\n",
    "                 stable_count=10,\n",
    "                 optimizer=optimizer,\n",
    "                 random_seed=9,initial = 5,kernel_size=3,initial_kernel=(1/s[1,1]))\n",
    "model1.fit(problem_instances1)\n",
    "problem_instances2 = [Problem(k=k,levels=levels[2:5],mxl=3,net_trained=[model1.net]) for k in np.random.randint(1,5,nb_problem_instances)]\n",
    "model2=alphaCNN(\n",
    "                 batch_size=10,\n",
    "                 learning_rate=1e-4,\n",
    "                 max_epochs=8,\n",
    "                 nb_layers=nb_layers,\n",
    "                 tol=1e-6,\n",
    "                 stable_count=10,\n",
    "                 optimizer=optimizer,\n",
    "                 random_seed=9,initial = 5,kernel_size=3,initial_kernel=0.01)\n",
    "model2.fit(problem_instances2)\n",
    "problem_instances3 = [Problem(k=k,levels=levels[1:5],mxl=4,net_trained=[model2.net,model1.net]) for k in np.random.randint(1,7,nb_problem_instances)]\n",
    "model3=alphaCNN(\n",
    "                 batch_size=10,\n",
    "                 learning_rate=1e-4,\n",
    "                 max_epochs=8,\n",
    "                 nb_layers=nb_layers,\n",
    "                 tol=1e-6,\n",
    "                 stable_count=10,\n",
    "                 optimizer=optimizer,\n",
    "                 random_seed=9,initial = 5,kernel_size=3,initial_kernel=0.001)\n",
    "model3.fit(problem_instances3)\n",
    "problem_instances4 = [Problem(k=k,levels=levels[0:5],mxl=5,net_trained=[model3.net,model2.net,model1.net]) for k in np.random.randint(1,10,nb_problem_instances)]\n",
    "model4=alphaCNN(\n",
    "                 batch_size=10,\n",
    "                 learning_rate=1e-4,\n",
    "                 max_epochs=4,\n",
    "                 nb_layers=nb_layers,\n",
    "                 tol=1e-6,\n",
    "                 stable_count=10,\n",
    "                 optimizer=optimizer,\n",
    "                 random_seed=9,initial = 5,kernel_size=3,initial_kernel=0.001)\n",
    "model4.fit(problem_instances4)"
   ]
  },
  {
   "cell_type": "code",
   "execution_count": 5,
   "metadata": {
    "executionInfo": {
     "elapsed": 21,
     "status": "ok",
     "timestamp": 1648064803667,
     "user": {
      "displayName": "Ru Huang",
      "photoUrl": "https://lh3.googleusercontent.com/a/default-user=s64",
      "userId": "03213243881794485520"
     },
     "user_tz": 240
    },
    "id": "0RA4jCxwtqJd"
   },
   "outputs": [],
   "source": []
  }
 ],
 "metadata": {
  "colab": {
   "collapsed_sections": [],
   "name": "main_red_black.ipynb",
   "provenance": []
  },
  "environment": {
   "name": "pytorch-gpu.1-4.m58",
   "type": "gcloud",
   "uri": "gcr.io/deeplearning-platform-release/pytorch-gpu.1-4:m58"
  },
  "hide_input": false,
  "kernelspec": {
   "display_name": "Python 3",
   "language": "python",
   "name": "python3"
  },
  "language_info": {
   "codemirror_mode": {
    "name": "ipython",
    "version": 3
   },
   "file_extension": ".py",
   "mimetype": "text/x-python",
   "name": "python",
   "nbconvert_exporter": "python",
   "pygments_lexer": "ipython3",
   "version": "3.8.8"
  },
  "name": "main.ipynb",
  "toc": {
   "base_numbering": 1,
   "nav_menu": {
    "height": "67.7px",
    "width": "252px"
   },
   "number_sections": true,
   "sideBar": false,
   "skip_h1_title": false,
   "title_cell": "Table of Contents",
   "title_sidebar": "Contents",
   "toc_cell": true,
   "toc_position": {
    "height": "584.933px",
    "left": "1px",
    "right": "2569px",
    "top": "111px",
    "width": "600px"
   },
   "toc_section_display": false,
   "toc_window_display": false
  }
 },
 "nbformat": 4,
 "nbformat_minor": 1
}
